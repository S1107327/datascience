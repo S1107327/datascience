{
 "cells": [
  {
   "cell_type": "code",
   "execution_count": null,
   "id": "5f86619e",
   "metadata": {},
   "outputs": [],
   "source": [
    "# import and dataset loading\n",
    "import numpy as np\n",
    "import pandas as pd\n",
    "import matplotlib.pyplot as plt\n",
    "import seaborn as sns\n",
    "from sklearn.model_selection import train_test_split, StratifiedKFold, cross_val_score\n",
    "from sklearn.metrics import ConfusionMatrixDisplay, confusion_matrix, accuracy_score, classification_report, roc_curve, auc\n",
    "from sklearn.svm import SVC\n",
    "from sklearn.neighbors import KNeighborsClassifier\n",
    "from sklearn.naive_bayes import GaussianNB\n",
    "from sklearn.tree import DecisionTreeClassifier\n",
    "from sklearn.ensemble import RandomForestClassifier\n",
    "from sklearn.ensemble import AdaBoostClassifier\n",
    "from sklearn.ensemble import GradientBoostingClassifier\n",
    "from sklearn.neural_network import MLPClassifier\n",
    "\n",
    "dataset = pd.read_csv(\"example_dataset.csv\")"
   ]
  },
  {
   "cell_type": "code",
   "execution_count": null,
   "id": "133284a2",
   "metadata": {},
   "outputs": [],
   "source": [
    "#fasttext embedding\n",
    "import fasttext\n",
    "train_data_path = \"bigrams.txt\"\n",
    "dim = 3\n",
    "model = fasttext.train_unsupervised(train_data_path, model=\"skipgram\", dim=3, epoch=20)\n",
    "words = model.get_words()\n",
    "dict_skipgram = {w: model.get_word_vector(w) for w in words}\n",
    "domain_names = dataset[\"bigrams\"].to_numpy()\n",
    "max_len = np.max([len(x.split()) for x in domain_names])\n",
    "embedded_domain_names = []\n",
    "for name in domain_names:\n",
    "    sequences = np.array(\n",
    "        [dict_skipgram.get(token) if dict_skipgram.get(token) is not None else np.zeros(dim)\n",
    "         for token in name.split()], dtype=np.single)\n",
    "    pad = np.zeros(dim * (max_len - len(name.split())), dtype=np.single)\n",
    "    embedded_domain_name = np.concatenate((sequences, pad), axis=None, dtype=np.single)\n",
    "    embedded_domain_names.append(embedded_domain_name)"
   ]
  },
  {
   "cell_type": "code",
   "execution_count": null,
   "id": "07e62aec",
   "metadata": {},
   "outputs": [],
   "source": [
    "plt.figure(figsize=(30,15))\n",
    "ax1 = sns.heatmap(embedded_domain_names_df[embedded_domain_names_df.columns].corr(),\n",
    "                 cmap=\"Blues\",annot=True,annot_kws={\"size\": 2})"
   ]
  },
  {
   "cell_type": "code",
   "execution_count": null,
   "id": "6f424973",
   "metadata": {},
   "outputs": [],
   "source": [
    "#Lettura dati ed embedding\n",
    "family_dict = {family: i for i, family in enumerate(sorted(set(dataset[\"label_multiclass\"])), 1)}\n",
    "true_labels = [family_dict[family] for family in dataset[\"label_multiclass\"].to_numpy()]\n",
    "#random state per test con lo stesso split ogni volta\n",
    "train, test, label_train, label_test=train_test_split(embedded_domain_names, true_labels, test_size=0.1, \n",
    "                                                      random_state=30)"
   ]
  },
  {
   "cell_type": "code",
   "execution_count": null,
   "id": "50ff8967",
   "metadata": {},
   "outputs": [],
   "source": [
    "# setting altri parametri per la classificazione\n",
    "kfold = StratifiedKFold(n_splits=5)\n",
    "cross_validation_scores = [] # punteggi della cross validation\n",
    "classification_reports = []\n",
    "confusion_matrices = []\n",
    "roc_aucs = [] #roc curve:\n",
    "true_pos_rates = []\n",
    "false_pos_rates = []\n",
    "#prep classificatori\n",
    "names=[\"SVC\", \"KNN\", \"Naive Bayes\", \"Decision Tree\", \"Random Forest\", \"AdaBoost\", \"Gradient Boosting\", \"MLP\"]\n",
    "classifiers=[ SVC(), KNeighborsClassifier(n_neighbors=5), GaussianNB(), DecisionTreeClassifier(),\n",
    "              RandomForestClassifier(n_estimators=10), AdaBoostClassifier(n_estimators=10), \n",
    "              GradientBoostingClassifier(n_estimators=10), MLPClassifier()]"
   ]
  },
  {
   "cell_type": "code",
   "execution_count": null,
   "id": "a1c3a89d",
   "metadata": {},
   "outputs": [],
   "source": [
    "#train e test dei classificatori:\n",
    "for name, classif in zip(names,classifiers):\n",
    "    # fitting model and make predictions\n",
    "    classif.fit(train, label_train)\n",
    "    predictions = classif.predict(test)\n",
    "    print(f\"{name}. Accuracy: {accuracy_score(label_test, predictions)}\")\n",
    "    # cross-validation\n",
    "    cv_score = cross_val_score(classif, train, label_train, scoring = \"accuracy\",cv = kfold)\n",
    "    cross_validation_scores.append(cv_score)\n",
    "    print(\"Done K-Fold cross-validation\")\n",
    "    # confusion matrix\n",
    "    disp = ConfusionMatrixDisplay.from_predictions(\n",
    "        label_test, \n",
    "        predictions,\n",
    "        display_labels=family_dict.keys(),\n",
    "        cmap=plt.cm.Blues,\n",
    "        normalize=\"true\",\n",
    "    )\n",
    "    disp.ax_.set_title(f\"{name}. Confusion matrix\")\n",
    "    confusion_matrices.append(disp)\n",
    "    print(\"Computed confusion matrix\")\n",
    "    # classification report\n",
    "    class_report = classification_report(label_test, predictions)\n",
    "    classification_reports.append(class_report)\n",
    "    print(\"Done classification report\")"
   ]
  },
  {
   "cell_type": "code",
   "execution_count": null,
   "id": "629a8357",
   "metadata": {},
   "outputs": [],
   "source": [
    "cross_val_mean_acc = [] # accuretezza media della cross validation\n",
    "cross_val_std = [] # deviazione standard della cross validation\n",
    "# cross validation plot\n",
    "for i in cross_validation_scores:\n",
    "    cross_val_mean_acc.append(i.mean())\n",
    "    cross_val_std.append(i.std())\n",
    "cv_df = pd.DataFrame({\"CrossValMeans\":cross_val_mean_acc, \"CrossValerrors\": cross_val_std,\"Algorithm\":names})\n",
    "print(cv_df)\n",
    "plt.figure(figsize=(12,6))\n",
    "sns.barplot(x=\"CrossValMeans\",y=\"Algorithm\", data=cv_df, palette=\"Set2\",orient = \"h\", **{'xerr':cross_val_std})\n",
    "plt.xlabel(\"Mean Accuracy\")\n",
    "plt.title(\"Cross validation scores\")"
   ]
  },
  {
   "cell_type": "code",
   "execution_count": null,
   "id": "42c38cd1",
   "metadata": {},
   "outputs": [],
   "source": [
    "# Confusion matrixes (not-normalized confusion matrix)\n",
    "plt.figure(figsize=(12,8))\n",
    "sns.set(font_scale=1.4)\n",
    "for i in range(len(names)):\n",
    "    plt.subplot(2,2, i+1) #adjust this acourding to the number of algorithms\n",
    "    sns.heatmap(confusion_matrix[i], annot=True, fmt=\"d\",cmap=\"Blues\")\n",
    "    plt.xlabel('Predicted')\n",
    "    plt.ylabel('Actual')\n",
    "    plt.title(f\"{names[i]} classifier\")"
   ]
  },
  {
   "cell_type": "code",
   "execution_count": null,
   "id": "ea7d114e",
   "metadata": {},
   "outputs": [],
   "source": [
    "#Classification reports\n",
    "for i in range(len(names)):\n",
    "    print (f\"{names[i]} Classification Report:\" );\n",
    "    print (classification_reports[i]);"
   ]
  }
 ],
 "metadata": {
  "kernelspec": {
   "display_name": "Python 3 (ipykernel)",
   "language": "python",
   "name": "python3"
  },
  "language_info": {
   "codemirror_mode": {
    "name": "ipython",
    "version": 3
   },
   "file_extension": ".py",
   "mimetype": "text/x-python",
   "name": "python",
   "nbconvert_exporter": "python",
   "pygments_lexer": "ipython3",
   "version": "3.10.6"
  }
 },
 "nbformat": 4,
 "nbformat_minor": 5
}
